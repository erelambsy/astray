{
 "cells": [
  {
   "cell_type": "code",
   "execution_count": 2,
   "id": "0ade0b11",
   "metadata": {},
   "outputs": [
    {
     "name": "stdout",
     "output_type": "stream",
     "text": [
      "10\n",
      "<class 'str'>\n"
     ]
    }
   ],
   "source": [
    "#format()함수로 숫자를 문자열로 변환하기\n",
    "string_a =\"{}\".format(10)\n",
    "\n",
    "#출력하기\n",
    "print(string_a)\n",
    "print(type(string_a))"
   ]
  },
  {
   "cell_type": "code",
   "execution_count": 4,
   "id": "15af1958",
   "metadata": {},
   "outputs": [
    {
     "name": "stdout",
     "output_type": "stream",
     "text": [
      "이름:홍길동, 나이:30, 직업:개발자\n"
     ]
    }
   ],
   "source": [
    "name=\"홍길동\"\n",
    "age=30\n",
    "job=\"개발자\"\n",
    "\n",
    "message = f\"이름:{name}, 나이:{age}, 직업:{job}\"\n",
    "print(message)"
   ]
  },
  {
   "cell_type": "code",
   "execution_count": 6,
   "id": "900e40c0",
   "metadata": {},
   "outputs": [
    {
     "name": "stdout",
     "output_type": "stream",
     "text": [
      "날짜2025년 4월 13일, 장소융건릉, 시간15시\n"
     ]
    }
   ],
   "source": [
    "date=\"2025년 4월 13일\"\n",
    "place=\"융건릉\"\n",
    "time=\"15시\"\n",
    "\n",
    "message = f\"날짜{date}, 장소{place}, 시간{time}\"\n",
    "print(message)"
   ]
  },
  {
   "cell_type": "code",
   "execution_count": null,
   "id": "83a35d35",
   "metadata": {},
   "outputs": [],
   "source": []
  }
 ],
 "metadata": {
  "kernelspec": {
   "display_name": "Python 3",
   "language": "python",
   "name": "python3"
  },
  "language_info": {
   "codemirror_mode": {
    "name": "ipython",
    "version": 3
   },
   "file_extension": ".py",
   "mimetype": "text/x-python",
   "name": "python",
   "nbconvert_exporter": "python",
   "pygments_lexer": "ipython3",
   "version": "3.11.9"
  }
 },
 "nbformat": 4,
 "nbformat_minor": 5
}
